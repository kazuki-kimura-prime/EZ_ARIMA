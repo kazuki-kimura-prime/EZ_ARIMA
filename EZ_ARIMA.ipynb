{
  "nbformat": 4,
  "nbformat_minor": 0,
  "metadata": {
    "colab": {
      "provenance": [],
      "toc_visible": true,
      "authorship_tag": "ABX9TyPPrlvXHtDhaWTU4e7XXXmJ",
      "include_colab_link": true
    },
    "kernelspec": {
      "name": "python3",
      "display_name": "Python 3"
    },
    "language_info": {
      "name": "python"
    }
  },
  "cells": [
    {
      "cell_type": "markdown",
      "metadata": {
        "id": "view-in-github",
        "colab_type": "text"
      },
      "source": [
        "<a href=\"https://colab.research.google.com/github/kazuki-kimura-prime/EZ_ARIMA/blob/main/EZ_ARIMA.ipynb\" target=\"_parent\"><img src=\"https://colab.research.google.com/assets/colab-badge.svg\" alt=\"Open In Colab\"/></a>"
      ]
    },
    {
      "cell_type": "markdown",
      "source": [
        "# EZ_ARIMA ： ARIMAモデルによる年間予測支援ツール"
      ],
      "metadata": {
        "id": "0bIiH1K-EfAi"
      }
    },
    {
      "cell_type": "markdown",
      "source": [
        "# EZ_ARIMAとは"
      ],
      "metadata": {
        "id": "c25vZeOm-4Kk"
      }
    },
    {
      "cell_type": "markdown",
      "source": [
        "## 📌 概要\n",
        "\n",
        "**EZ_ARIMA** は、Pythonベースで構築された季節性ARIMA（SARIMA）モデルによる時系列データの年間予測支援ツールです。誰でも簡単にARIMAモデルを使用して中長期的な変動予測を行えるようにすることを目的として開発されました。\n",
        "\n",
        "専門知識がないユーザーでも、時系列データの入力さえ行えば、12か月先までの予測とその評価を自動で出力します。\n"
      ],
      "metadata": {
        "id": "ZVKAWy0TxtVa"
      }
    },
    {
      "cell_type": "markdown",
      "source": [
        "## 🔍 主な機能\n",
        "\n",
        "- 月次データに対応した **SARIMAモデル** を使用した予測\n",
        "- **自動パラメータ推定** によるモデル構築（`statsmodels` ライブラリを使用）\n",
        "- 学習データと検証データの自動分割\n",
        "- **MAE / RMSE / MAPE / R²** による精度評価\n",
        "- **残差分析**（ACFプロット、Q-Qプロット）によるモデル妥当性確認\n",
        "- **95%信頼区間**付き予測グラフの自動描画\n"
      ],
      "metadata": {
        "id": "XWNpeYrn0bQp"
      }
    },
    {
      "cell_type": "markdown",
      "source": [
        "## 🧪 活用事例\n",
        "\n",
        "公開準備中\n"
      ],
      "metadata": {
        "id": "Lz1p49g_98em"
      }
    },
    {
      "cell_type": "markdown",
      "source": [
        "## 📊 対応データ\n",
        "\n",
        "\n",
        "* 形式: CSV\n",
        "* 頻度: 月次データ（毎月1回の観測データ）\n",
        "* 長さ: 推奨5年以上（最低でも3年以上）\n",
        "\n",
        "\n"
      ],
      "metadata": {
        "id": "li6kRmE--H9Z"
      }
    },
    {
      "cell_type": "markdown",
      "source": [
        "## 📈 出力する結果\n",
        "* 実測値と予測値の重ね合わせグラフ\n",
        "* 信頼区間付き将来予測グラフ\n",
        "* 残差のヒストグラム、ACFプロット、Q-Qプロット\n",
        "* 評価指標（MAE、RMSE、MAPE、R²）"
      ],
      "metadata": {
        "id": "EHWnmjEi-_se"
      }
    },
    {
      "cell_type": "markdown",
      "source": [
        "## ⚠️ 注意点\n",
        "* ARIMAモデルは時系列データに基づく予測を行います。突発的な異常や構造的変化がある場合、精度が低下する可能性があります。\n",
        "* モデルの結果はあくまで補助的判断材料であり、**最終的な意思決定は利用者の責任で行ってください**。"
      ],
      "metadata": {
        "id": "bS7Qt-gb_-Zj"
      }
    },
    {
      "cell_type": "markdown",
      "source": [
        "# EZ_ARIMA"
      ],
      "metadata": {
        "id": "lb_pUSbMAwgT"
      }
    },
    {
      "cell_type": "markdown",
      "source": [
        "## 使い方"
      ],
      "metadata": {
        "id": "HMC36Ez9A0Rm"
      }
    },
    {
      "cell_type": "markdown",
      "source": [
        "右に[　]があるまとまりを「セル」といいます。セルの前にある説明を読んで上から順に実行していってください。\n",
        "それぞれのセルの[　]にカーソルを合わせると▶️が表示されます。クリックするとそのセルを実行できます。実行すると⏹️になりますので、しばらくお待ちください。[　]の隣に☑️が表示されれば正常に終了しています。❗️マークの時は実行に失敗しています。もう一度実行してください。"
      ],
      "metadata": {
        "id": "DVbvv0fbDeLT"
      }
    },
    {
      "cell_type": "markdown",
      "source": [
        "## 環境構築セクション"
      ],
      "metadata": {
        "id": "j8j259_HyhoM"
      }
    },
    {
      "cell_type": "markdown",
      "source": [
        "Google Driveに接続します。「このノートブックに Google ドライブのファイルへのアクセスを許可しますか？」と表示されるので、ご自身のアカウントで接続してください。\n",
        "\n",
        "```\n",
        "Mounted at /content/drive\n",
        "```\n",
        "と表示されれば成功です。\n"
      ],
      "metadata": {
        "id": "MmLCJJHbyog2"
      }
    },
    {
      "cell_type": "code",
      "execution_count": null,
      "metadata": {
        "id": "VAuomGw_dgLk"
      },
      "outputs": [],
      "source": [
        "# Google Driveに接続\n",
        "from google.colab import drive\n",
        "drive.mount('/content/drive')"
      ]
    },
    {
      "cell_type": "markdown",
      "source": [
        "次に、必要なライブラリをインストールします。「セッションを再起動する」と表示されますが正常です。\n",
        "\n",
        "```\n",
        "RESTERT SESSION を押してください\n",
        "```\n",
        "と表示されますので、そのボタンをクリックすれば終了です。\n"
      ],
      "metadata": {
        "id": "DMnySu3fE3bj"
      }
    },
    {
      "cell_type": "code",
      "source": [
        "!pip uninstall -y pandas matplotlib statsmodels pmdarima\n",
        "!pip install pandas==2.2.2 matplotlib==3.8.0 statsmodels==0.14.0 pmdarima==2.0.3\n",
        "print(f\"セッションを再起動してください。（RESTERT SESSION を押してください）\")"
      ],
      "metadata": {
        "id": "VpP2GA3f1zWm"
      },
      "execution_count": null,
      "outputs": []
    },
    {
      "cell_type": "markdown",
      "source": [
        "インストールされたバージョンを確認します。\n",
        "\n",
        "```\n",
        "pandas: 2.2.2\n",
        "matplotlib: 3.8.0\n",
        "statsmodels: 0.14.0\n",
        "pmdarima: 2.0.3\n",
        "```\n",
        "と表示されれば終了です。もし、異なる場合は一つ上載せるからやり直してください。\n"
      ],
      "metadata": {
        "id": "zONsr2DaG51x"
      }
    },
    {
      "cell_type": "code",
      "source": [
        "import pandas\n",
        "import matplotlib\n",
        "import statsmodels\n",
        "import pmdarima\n",
        "\n",
        "print(\"pandas:\", pandas.__version__)\n",
        "print(\"matplotlib:\", matplotlib.__version__)\n",
        "print(\"statsmodels:\", statsmodels.__version__)\n",
        "print(\"pmdarima:\", pmdarima.__version__)\n",
        "\n",
        "if pandas.__version__ != '2.2.2':\n",
        "    print(f\"pandasのバージョンが2.2.2ではありません。現在のバージョン: {pandas.__version__}\")\n",
        "if matplotlib.__version__ != '3.8.0':\n",
        "    print(f\"matplotlibのバージョンが3.8.0ではありません。現在のバージョン: {matplotlib.__version__}\")\n",
        "if statsmodels.__version__ != '0.14.0':\n",
        "    print(f\"statsmodelsのバージョンが0.14.0ではありません。現在のバージョン: {statsmodels.__version__}\")\n",
        "if pmdarima.__version__ != '2.0.3':\n",
        "    print(f\"pmdarimaのバージョンが2.0.3ではありません。現在のバージョン: {pmdarima.__version__}\")"
      ],
      "metadata": {
        "id": "Ij-v_q1I3HVi"
      },
      "execution_count": null,
      "outputs": []
    },
    {
      "cell_type": "markdown",
      "source": [
        "## データ作成セクション"
      ],
      "metadata": {
        "id": "8sFTbYvJzAlg"
      }
    },
    {
      "cell_type": "markdown",
      "source": [
        "CSV形式のデータ様式を出力します。わかるところにダウンロードしてください。その後、このファイルの中のデータを解析したいデータに書き換えてください。"
      ],
      "metadata": {
        "id": "r-CNhPjuzUBY"
      }
    },
    {
      "cell_type": "code",
      "source": [
        "import pandas as pd\n",
        "import numpy as np\n",
        "from datetime import datetime\n",
        "\n",
        "# ダミーデータを生成する\n",
        "start_date = datetime(2020, 4, 1)  # 開始日\n",
        "periods = 12 * 5  # 12か月 × 5年分のデータ\n",
        "frequency = 'M'  # 月次データ\n",
        "\n",
        "# 日付データの生成\n",
        "date_range = pd.date_range(start=start_date, periods=periods, freq=frequency)\n",
        "\n",
        "# SARIMA向けの値を生成\n",
        "trend = np.linspace(50, 100, periods)  # トレンド\n",
        "seasonality = 10 * np.sin(2 * np.pi * np.arange(periods) / 12)  # 季節性\n",
        "noise = np.random.normal(0, 5, periods)  # ランダムノイズ\n",
        "values = trend + seasonality + noise  # トレンド + 季節性 + ノイズ\n",
        "\n",
        "# DataFrameを作成\n",
        "data = pd.DataFrame({\n",
        "    'date': date_range,\n",
        "    'value': values\n",
        "})\n",
        "\n",
        "# CSVファイルとして保存\n",
        "data.to_csv('data.csv', index=False)\n",
        "\n",
        "# Google Colabからローカルにダウンロード\n",
        "from google.colab import files\n",
        "files.download('data.csv')\n",
        "\n",
        "# 確認用にデータの先頭5行を表示\n",
        "print(data.head())\n",
        "print(f\"様式となるCSVファイルを作成しました。\")"
      ],
      "metadata": {
        "id": "_7Yp1RCmlBG_"
      },
      "execution_count": null,
      "outputs": []
    },
    {
      "cell_type": "markdown",
      "source": [
        "## 解析セクション"
      ],
      "metadata": {
        "id": "YezqE4EOzi8B"
      }
    },
    {
      "cell_type": "markdown",
      "source": [
        "最後の12ヶ月とそれ以外のデータに分けて解析を行います。最後の12ヶ月と解析結果を比較してモデルの精度をユーザーが確認する必要があります。\n",
        "\n",
        "```\n",
        "CSVファイルをアップロードしてください\n",
        "```\n",
        "と表示されますので、作成したCSVファイルを読み込んでください。その後、自動的に解析が実行されますので解析結果に問題がないか確認してください。結果の見方はこのセルのに記載しています\n"
      ],
      "metadata": {
        "id": "gCNrvFtxzyUK"
      }
    },
    {
      "cell_type": "code",
      "source": [
        "import pandas as pd\n",
        "import matplotlib.pyplot as plt\n",
        "import pmdarima as pm\n",
        "import numpy as np\n",
        "import statsmodels.api as sm\n",
        "import seaborn as sns\n",
        "from pandas.tseries.offsets import MonthEnd\n",
        "from google.colab import files\n",
        "from sklearn.metrics import mean_absolute_error, mean_squared_error, r2_score\n",
        "\n",
        "\n",
        "# ======== ファイルアップロード ========\n",
        "print(\"📂 CSVファイルをアップロードしてください\")\n",
        "uploaded = files.upload()\n",
        "filename = list(uploaded.keys())[0]\n",
        "\n",
        "# ======== データ読み込み & 月末に補正 ========\n",
        "df = pd.read_csv(filename)\n",
        "\n",
        "# 必須カラム確認\n",
        "if 'date' not in df.columns or 'value' not in df.columns:\n",
        "    raise ValueError(\"CSVには 'date' 列と 'value' 列が必要です。\")\n",
        "\n",
        "# 日付変換 + 月末に補正\n",
        "df['date'] = pd.to_datetime(df['date']) + MonthEnd(0)\n",
        "\n",
        "# 時系列データとしてインデックス設定\n",
        "df = df.sort_values('date')\n",
        "df.set_index('date', inplace=True)\n",
        "\n",
        "# ======== 時系列データの抽出 ========\n",
        "ts = df['value']\n",
        "\n",
        "# ======== 学習・テスト分割（最後の12ヶ月をテストに） ========\n",
        "train = ts.iloc[:-12]\n",
        "test = ts.iloc[-12:]\n",
        "forecast_index = test.index\n",
        "\n",
        "# ======== SARIMAモデルの自動構築と学習 ========\n",
        "model = pm.auto_arima(\n",
        "    train,\n",
        "    seasonal=True,\n",
        "    m=12,\n",
        "    trace=True,\n",
        "    error_action='ignore',\n",
        "    suppress_warnings=True,\n",
        "    stepwise=True\n",
        ")\n",
        "print(\"\\n✅ モデル概要:\")\n",
        "print(model.summary())\n",
        "\n",
        "# ======== 予測の実行と信頼区間取得 ========\n",
        "n_periods = 12\n",
        "forecast_values, conf_int = model.predict(n_periods=n_periods, return_conf_int=True)\n",
        "\n",
        "# Series に変換し、インデックスを月末に統一\n",
        "forecast = pd.Series(forecast_values, index=forecast_index)\n",
        "lower_ci = pd.Series(conf_int[:, 0], index=forecast_index)\n",
        "upper_ci = pd.Series(conf_int[:, 1], index=forecast_index)\n",
        "\n",
        "# ======== 比較用DataFrameの作成 ========\n",
        "result_df = pd.DataFrame({\n",
        "    'Actual': test,\n",
        "    'Forecast': forecast,\n",
        "    'Lower CI': lower_ci,\n",
        "    'Upper CI': upper_ci\n",
        "})\n",
        "result_df['Error'] = result_df['Actual'] - result_df['Forecast']\n",
        "result_df['Error (%)'] = (result_df['Error'] / result_df['Actual']) * 100\n",
        "\n",
        "# ======== グラフ①：全体表示（Train + Test + Forecast） ========\n",
        "plt.figure(figsize=(14, 6))\n",
        "plt.plot(train.index, train, label='Train', color='blue', marker='s')\n",
        "plt.plot(test.index, test, label='Actual (Test)', color='green', marker='s')\n",
        "plt.plot(forecast.index, forecast, label='Forecast', color='red', linestyle='--', marker='o')\n",
        "plt.fill_between(forecast.index, lower_ci, upper_ci,\n",
        "                 color='pink', alpha=0.3, label='95% Confidence Interval')\n",
        "plt.title('SARIMA Forecast vs Actual with Train Overlay (Month End)')\n",
        "plt.xlabel('Date (Month End)')\n",
        "plt.ylabel('Value')\n",
        "plt.legend()\n",
        "plt.grid(True)\n",
        "plt.tight_layout()\n",
        "plt.show()\n",
        "\n",
        "# ======== グラフ②：ズーム表示（12ヶ月） ========\n",
        "plt.figure(figsize=(12, 5))\n",
        "plt.plot(result_df.index, result_df['Actual'], label='Actual', color='green', marker='s')\n",
        "plt.plot(result_df.index, result_df['Forecast'], label='Forecast', color='red', linestyle='--', marker='o')\n",
        "plt.fill_between(result_df.index,\n",
        "                 result_df['Lower CI'],\n",
        "                 result_df['Upper CI'],\n",
        "                 color='pink', alpha=0.3, label='95% Confidence Interval')\n",
        "plt.title('Forecast vs Actual (Last 12 Months, Month End)')\n",
        "plt.xlabel('Date (Month End)')\n",
        "plt.ylabel('Value')\n",
        "plt.legend()\n",
        "plt.grid(True)\n",
        "plt.tight_layout()\n",
        "plt.show()\n",
        "\n",
        "# ======== 表の出力 ========\n",
        "print(\"\\n📊 予測 vs 実データ（最後の12ヶ月）\")\n",
        "print(result_df.round(2))\n",
        "\n",
        "\n",
        "# ======== Evaluation Metrics ========\n",
        "mae = mean_absolute_error(result_df['Actual'], result_df['Forecast'])\n",
        "rmse = np.sqrt(mean_squared_error(result_df['Actual'], result_df['Forecast']))\n",
        "mape = np.mean(np.abs(result_df['Error (%)']))\n",
        "r2 = r2_score(result_df['Actual'], result_df['Forecast'])\n",
        "\n",
        "print(\"\\n📈 Model Evaluation Metrics (Last 12 Months):\")\n",
        "print(f\"MAE  : {mae:.2f}\")\n",
        "print(f\"RMSE : {rmse:.2f}\")\n",
        "print(f\"MAPE : {mape:.2f}%\")\n",
        "print(f\"R²   : {r2:.3f}\")\n",
        "\n",
        "# ======== Residuals ========\n",
        "residuals = result_df['Error']\n",
        "\n",
        "# Residual plot\n",
        "plt.figure(figsize=(10, 4))\n",
        "plt.plot(residuals, marker='o', linestyle='-', color='purple')\n",
        "plt.axhline(0, linestyle='--', color='gray')\n",
        "plt.title(\"Residuals Plot (Forecast - Actual)\")\n",
        "plt.xlabel(\"Date\")\n",
        "plt.ylabel(\"Residual\")\n",
        "plt.grid(True)\n",
        "plt.tight_layout()\n",
        "plt.show()\n",
        "\n",
        "# ACF of residuals\n",
        "fig, ax = plt.subplots(figsize=(10, 4))\n",
        "sm.graphics.tsa.plot_acf(residuals, lags=11, ax=ax)\n",
        "plt.title(\"Autocorrelation of Residuals (ACF)\")\n",
        "plt.tight_layout()\n",
        "plt.show()\n",
        "\n",
        "# Histogram of residuals with KDE\n",
        "plt.figure(figsize=(8, 4))\n",
        "sns.histplot(residuals, bins=10, kde=True, color='teal')\n",
        "plt.title(\"Distribution of Residuals (Histogram + KDE)\")\n",
        "plt.xlabel(\"Residual\")\n",
        "plt.ylabel(\"Frequency\")\n",
        "plt.tight_layout()\n",
        "plt.show()\n",
        "\n"
      ],
      "metadata": {
        "id": "mGjqnvougLpB"
      },
      "execution_count": null,
      "outputs": []
    },
    {
      "cell_type": "markdown",
      "source": [
        "📊 1回目のデータ分割による予測解析の出力と見方\n",
        "\n",
        "本システムでは、モデルの予測性能を客観的に評価するために、時系列データを以下の2つに分割して処理を行います：\n",
        "* 学習データ（Training Data）：モデル構築（学習）に使用される過去のデータ\n",
        "*\t検証データ（Test Data）：構築されたモデルで予測し、実測値と比較するためのデータ\n",
        "\n",
        "この段階で出力される結果は、モデルの適合性や予測性能を確認するための非常に重要な情報です。\n",
        "\n",
        "⸻\n",
        "\n",
        "🔢 出力される主な情報とその見方\n",
        "\n",
        "1. 📈 実測値と予測値のグラフ\n",
        "*\t青い線：実測値\n",
        "*\tオレンジの線：予測値\n",
        "*\tこれらを比較することで、モデルが実際の傾向をどの程度うまく捉えているかが一目で確認できます。\n",
        "\n",
        "✅ 見るべきポイント：予測線が実測線と近いか？大きく外れている月があるか？\n",
        "\n",
        "⸻\n",
        "\n",
        "2. 📉 残差分析（予測誤差）\n",
        "*\t残差ヒストグラム：予測誤差（残差）の分布\n",
        "*\t左右対称で中心が0に近いなら、予測は偏りが少ないと考えられます。\n",
        "*\tQ-Qプロット：残差が正規分布に従うかを確認\n",
        "*\t点が直線上に並ぶほど、残差が正規的で信頼性の高い予測とみなせます。\n",
        "*\t自己相関プロット（ACF）：残差に周期性や構造が残っていないかの確認\n",
        "*\t自己相関がほぼ0なら、モデルがパターンを十分捉えていることを示します。\n",
        "\n",
        "⸻\n",
        "\n",
        "3. 📊 モデル評価指標（テストデータに基づく定量評価）\n",
        "* MAE（平均絶対誤差）:誤差の絶対値の平均(値が小さいほど良好)\n",
        "* RMSE（二乗平均平方根誤差）:大きな誤差に敏感に変動\n",
        "(MAEと差が大きいと大きな誤差が混ざっている可能性あり)\n",
        "* MAPE（平均絶対パーセント誤差）:誤差の割合\n",
        "(一般的に 20% 以下で良好)\n",
        "* R²（決定係数）:モデルの説明力\n",
        "(1に近いほど良好)\n",
        "\n",
        "\n",
        "📌 この分析の目的\n",
        "\n",
        "この1回目の分割・予測は、将来予測に進む前に「モデルが十分に実用レベルであるか」を検証する工程です。\n",
        "ここで得られた知見に基づいて、ユーザーがモデルの精度を確認する必要があります。"
      ],
      "metadata": {
        "id": "6yylH7YVz7WK"
      }
    },
    {
      "cell_type": "markdown",
      "source": [
        "上のセルでモデルの精度が十分だと確認できたら本解析に進みます。\n",
        "本解析では、入力されたデータの最終月から12ヶ月後までの予測を行います。"
      ],
      "metadata": {
        "id": "xQFQGzybLLkE"
      }
    },
    {
      "cell_type": "code",
      "source": [
        "# === 再学習：全データでモデルを再構築 ===\n",
        "print(\"\\n🔁 Performing Final Forecast Using All Available Data...\")\n",
        "\n",
        "# モデル再構築（全データで）\n",
        "final_model = pm.auto_arima(\n",
        "    ts,\n",
        "    seasonal=True,\n",
        "    m=12,\n",
        "    trace=True,\n",
        "    error_action='ignore',\n",
        "    suppress_warnings=True,\n",
        "    stepwise=True\n",
        ")\n",
        "\n",
        "print(\"\\n✅ モデル概要:\")\n",
        "print(final_model.summary())\n",
        "\n",
        "# === 12ヶ月先まで予測（CSVの最終月から） ===\n",
        "n_forecast = 12\n",
        "future_forecast, future_conf_int = final_model.predict(n_periods=n_forecast, return_conf_int=True)\n",
        "\n",
        "# 予測のインデックス（日付）を生成（すべて月末）\n",
        "last_date = ts.index[-1]\n",
        "forecast_index_future = pd.date_range(start=last_date + pd.offsets.MonthEnd(1), periods=n_forecast, freq='M')\n",
        "\n",
        "# 予測と信頼区間をSeriesに変換\n",
        "forecast_future = pd.Series(future_forecast, index=forecast_index_future)\n",
        "lower_future = pd.Series(future_conf_int[:, 0], index=forecast_index_future)\n",
        "upper_future = pd.Series(future_conf_int[:, 1], index=forecast_index_future)\n",
        "\n",
        "# === プロット：実データ + 予測 ===\n",
        "plt.figure(figsize=(14, 6))\n",
        "plt.plot(ts.index, ts, label='Observed', color='blue', marker='s')\n",
        "plt.plot(forecast_index_future, forecast_future, label='Forecast', color='red', linestyle='--', marker='o')\n",
        "plt.fill_between(forecast_index_future, lower_future, upper_future, color='pink', alpha=0.3, label='95% Confidence Interval')\n",
        "plt.title(\"Final Forecast (12 Months Ahead)\")\n",
        "plt.xlabel(\"Date (Month End)\")\n",
        "plt.ylabel(\"Value\")\n",
        "plt.legend()\n",
        "plt.grid(True)\n",
        "plt.tight_layout()\n",
        "plt.show()\n",
        "\n",
        "# 最後の12ヶ月のインデックスと予測・信頼区間を抽出\n",
        "forecast_index_last_12 = forecast_index_future[-12:]\n",
        "forecast_last_12 = forecast_future[-12:]\n",
        "lower_last_12 = lower_future[-12:]\n",
        "upper_last_12 = upper_future[-12:]\n",
        "\n",
        "# プロット\n",
        "plt.figure(figsize=(10, 5))\n",
        "plt.plot(forecast_index_last_12, forecast_last_12, label='Forecast (Last 12 Months)', color='red', linestyle='--', marker='o')\n",
        "plt.fill_between(forecast_index_last_12, lower_last_12, upper_last_12, color='pink', alpha=0.3, label='95% Confidence Interval')\n",
        "plt.title(\"Final Forecast: Last 12 Months Only\")\n",
        "plt.xlabel(\"Date (Month End)\")\n",
        "plt.ylabel(\"Value\")\n",
        "plt.legend()\n",
        "plt.grid(True)\n",
        "plt.tight_layout()\n",
        "plt.show()\n",
        "\n",
        "# === Optional: 予測結果の表示 ===\n",
        "forecast_df = pd.DataFrame({\n",
        "    'Forecast': forecast_future,\n",
        "    'Lower CI': lower_future,\n",
        "    'Upper CI': upper_future\n",
        "})\n",
        "\n",
        "# 結果を表示\n",
        "print(\"\\n📊 Final 12-Month Forecast:\")\n",
        "print(forecast_df.round(2))\n"
      ],
      "metadata": {
        "id": "HgXtPJy3lPKL"
      },
      "execution_count": null,
      "outputs": []
    },
    {
      "cell_type": "markdown",
      "source": [
        "## ライセンス"
      ],
      "metadata": {
        "id": "Rg1oK3cbB4lq"
      }
    },
    {
      "cell_type": "markdown",
      "source": [
        "MIT License\n",
        "\n",
        "Copyright (c) 2025 Kazuki Kimura\n",
        "\n",
        "Permission is hereby granted, free of charge, to any person obtaining a copy\n",
        "of this software and associated documentation files (the \"Software\"), to deal\n",
        "in the Software without restriction, including without limitation the rights\n",
        "to use, copy, modify, merge, publish, distribute, sublicense, and/or sell\n",
        "copies of the Software, and to permit persons to whom the Software is\n",
        "furnished to do so, subject to the following conditions:\n",
        "\n",
        "The above copyright notice and this permission notice shall be included in all\n",
        "copies or substantial portions of the Software.\n",
        "\n",
        "THE SOFTWARE IS PROVIDED \"AS IS\", WITHOUT WARRANTY OF ANY KIND, EXPRESS OR\n",
        "IMPLIED, INCLUDING BUT NOT LIMITED TO THE WARRANTIES OF MERCHANTABILITY,\n",
        "FITNESS FOR A PARTICULAR PURPOSE AND NONINFRINGEMENT. IN NO EVENT SHALL THE\n",
        "AUTHORS OR COPYRIGHT HOLDERS BE LIABLE FOR ANY CLAIM, DAMAGES OR OTHER\n",
        "LIABILITY, WHETHER IN AN ACTION OF CONTRACT, TORT OR OTHERWISE, ARISING FROM,\n",
        "OUT OF OR IN CONNECTION WITH THE SOFTWARE OR THE USE OR OTHER DEALINGS IN THE\n",
        "SOFTWARE."
      ],
      "metadata": {
        "id": "tPTXyuIxBHOX"
      }
    },
    {
      "cell_type": "markdown",
      "source": [
        "-------------------------------------------------------------------------------\n",
        "\n",
        "📦 本ソフトウェア「EZ_ARIMA」は、以下のオープンソースライブラリに依存しています：\n",
        "\n",
        "| ライブラリ名     | ライセンス種別 | 備考                           |\n",
        "|------------------|----------------|--------------------------------|\n",
        "| pandas           | BSD License    | データフレーム操作             |\n",
        "| numpy            | BSD License    | 数値計算                       |\n",
        "| matplotlib       | PSF License    | グラフ描画                     |\n",
        "| seaborn          | BSD License    | 統計可視化                     |\n",
        "| statsmodels      | BSD License    | 時系列解析・回帰分析など       |\n",
        "| pmdarima         | MIT License    | ARIMA/SARIMA 自動モデリング    |\n",
        "\n",
        "これらのライブラリは本ソフトウェアには同梱されておらず、pip等を通じてインストールされます。  \n",
        "使用ライブラリの各ライセンスは、それぞれの公式サイトまたはGitHubリポジトリで確認可能です。\n",
        "\n",
        "-------------------------------------------------------------------------------\n",
        "\n",
        "🛡 著作権・ライセンス遵守に関する声明\n",
        "\n",
        "- 上記ライブラリは、そのライセンスに従い合法的に利用されています。\n",
        "- 本ソフトウェアには、他者のコードや技術記事からの参照・派生要素を含むことがありますが、いずれもライセンス条件を遵守した上で構成されています。\n",
        "- 著作権侵害の意図は一切なく、必要に応じて謝辞・出典等の追記や修正を行います。\n",
        "\n",
        "問題がある場合は GitHub の Issues よりご連絡ください。確認後、速やかに対応いたします。\n",
        "\n",
        "このソフトウェアは個人で制作したものであり郡山市及び郡山市上下水道局は制作に関係しておりません。"
      ],
      "metadata": {
        "id": "wAQ9J9tmIQjd"
      }
    }
  ]
}